{
 "cells": [
  {
   "cell_type": "code",
   "execution_count": 1,
   "metadata": {},
   "outputs": [],
   "source": [
    "import requests\n",
    "import os\n",
    "import time\n",
    "\n",
    "summonerIds = []\n",
    "API_KEY = os.getenv('API_KEY')\n",
    "\n",
    "# Challenger League\n",
    "CHAL_URL = \"https://na1.api.riotgames.com/lol/league/v4/challengerleagues/by-queue/RANKED_SOLO_5x5\"\n",
    "chal_response = requests.get(CHAL_URL, headers={'X-Riot-Token': API_KEY})\n",
    "\n",
    "entries = chal_response.json()['entries']\n",
    "for entry in entries:\n",
    "    summonerIds.append(entry['summonerId'])\n",
    "\n",
    "# Grandmaster League\n",
    "GM_URL = \"https://na1.api.riotgames.com/lol/league/v4/challengerleagues/by-queue/RANKED_SOLO_5x5\"\n",
    "gm_response = requests.get(GM_URL, headers={'X-Riot-Token': API_KEY})\n",
    "\n",
    "entries = gm_response.json()['entries']\n",
    "for entry in entries:\n",
    "    summonerIds.append(entry['summonerId'])\n",
    "\n",
    "# Master League\n",
    "M_URL = \"https://na1.api.riotgames.com/lol/league/v4/challengerleagues/by-queue/RANKED_SOLO_5x5\"\n",
    "m_response = requests.get(M_URL, headers={'X-Riot-Token': API_KEY})\n",
    "\n",
    "entries = m_response.json()['entries']\n",
    "for entry in entries:\n",
    "    summonerIds.append(entry['summonerId'])"
   ]
  },
  {
   "cell_type": "code",
   "execution_count": 2,
   "metadata": {},
   "outputs": [
    {
     "name": "stdout",
     "output_type": "stream",
     "text": [
      "Opened file puuids.txt\n"
     ]
    }
   ],
   "source": [
    "puuids = []\n",
    "try:\n",
    "    with open(r'./puuids.txt', 'r') as fp:\n",
    "        for line in fp:\n",
    "            puuids.append(line[:-1])\n",
    "        print('Opened file puuids.txt')\n",
    "\n",
    "except IOError:\n",
    "    SUMMONER_URL = \"https://na1.api.riotgames.com/lol/summoner/v4/summoners/\"\n",
    "    for index, id in enumerate(summonerIds, 1):\n",
    "        if index % 100 == 0:\n",
    "            time.sleep(130)\n",
    "\n",
    "        response = requests.get(SUMMONER_URL + id, headers={'X-Riot-Token': API_KEY})\n",
    "        summoner = response.json()\n",
    "        puuids.append(summoner['puuid'])\n",
    "\n",
    "    with open(r'./puuids.txt', 'w+') as fp:\n",
    "        for puuid in puuids:\n",
    "            fp.write(f\"{puuid}\\n\")\n",
    "        print('Created new file puuids.txt')"
   ]
  },
  {
   "cell_type": "code",
   "execution_count": 3,
   "metadata": {},
   "outputs": [
    {
     "name": "stdout",
     "output_type": "stream",
     "text": [
      "Opened file match_ids.txt\n"
     ]
    }
   ],
   "source": [
    "matchIds = set() \n",
    "try:\n",
    "    with open(r'./match_ids.txt', 'r') as fp:\n",
    "        for line in fp:\n",
    "            matchIds.add(line[:-1])\n",
    "        print('Opened file match_ids.txt')\n",
    "\n",
    "except IOError:\n",
    "    MATCHIDS_URL = lambda x : f\"https://americas.api.riotgames.com/lol/match/v5/matches/by-puuid/{x}/ids?type=ranked&start=0&count=100\"\n",
    "    for index, puuid in enumerate(puuids, 1):\n",
    "        if index % 100 == 0:\n",
    "            time.sleep(130)\n",
    "\n",
    "        response = requests.get(MATCHIDS_URL(puuid), headers={'X-Riot-Token': API_KEY})\n",
    "        matches = response.json()\n",
    "        matchIds.update(matches)\n",
    "\n",
    "    with open(r'./match_ids.txt', 'w+') as fp:\n",
    "        for matchId in matchIds:\n",
    "            fp.write(f\"{matchId}\\n\")\n",
    "        print('Created new file match_ids.txt')"
   ]
  },
  {
   "cell_type": "code",
   "execution_count": 14,
   "metadata": {},
   "outputs": [
    {
     "name": "stdout",
     "output_type": "stream",
     "text": [
      "Created new file team_data.csv\n"
     ]
    }
   ],
   "source": [
    "import csv\n",
    "\n",
    "teams_data = [] \n",
    "try:\n",
    "    with open(r'./team_data.csv', 'r') as fp:\n",
    "        csvFile = csv.DictReader(fp)\n",
    "\n",
    "        for line in csvFile:\n",
    "            teams_data.append(dict(line))\n",
    "        print('Opened file team_data.txt')\n",
    "\n",
    "except IOError:\n",
    "    MATCHDATA_URL = lambda x : f\"https://americas.api.riotgames.com/lol/match/v5/matches/{x}\"\n",
    "    fieldnames = [\n",
    "        'match_id',\n",
    "        'team1_champ_kills',\n",
    "        'team1_baron_kills', \n",
    "        'team1_drag_kills', \n",
    "        'team1_herald_kills',\n",
    "        'team1_tower_kills',\n",
    "        'team1_inhib_kills',\n",
    "        'team1_total_gold',\n",
    "        'team1_total_dmg',\n",
    "        'team1_win',\n",
    "        'team2_champ_kills',\n",
    "        'team2_baron_kills', \n",
    "        'team2_drag_kills', \n",
    "        'team2_herald_kills',\n",
    "        'team2_tower_kills',\n",
    "        'team2_inhib_kills',\n",
    "        'team2_total_gold',\n",
    "        'team2_total_dmg',\n",
    "        'team2_win'\n",
    "        ]\n",
    "    for index, matchId in enumerate(matchIds, 1):\n",
    "        if index == 10000:\n",
    "            break\n",
    "\n",
    "        if index % 100 == 0:\n",
    "            time.sleep(130)\n",
    "\n",
    "        response = requests.get(MATCHDATA_URL(matchId), headers={'X-Riot-Token': API_KEY})\n",
    "        match_data = response.json()\n",
    "\n",
    "        team_data = {}\n",
    "        if 'info' in match_data:\n",
    "            team_data['match_id'] = matchId\n",
    "\n",
    "            teams = match_data['info']['teams']\n",
    "            team1 = teams[0]\n",
    "            team_data['team1_champ_kills'] = team1['objectives']['champion']['kills']\n",
    "            team_data['team1_baron_kills'] = team1['objectives']['baron']['kills']\n",
    "            team_data['team1_drag_kills'] = team1['objectives']['dragon']['kills']\n",
    "            team_data['team1_herald_kills'] = team1['objectives']['riftHerald']['kills']\n",
    "            team_data['team1_tower_kills'] = team1['objectives']['tower']['kills']\n",
    "            team_data['team1_inhib_kills'] = team1['objectives']['inhibitor']['kills']\n",
    "            team_data['team1_win'] = 1 if team1['win'] else 0\n",
    "\n",
    "            team2 = teams[1]\n",
    "            team_data['team2_champ_kills'] = team2['objectives']['champion']['kills']\n",
    "            team_data['team2_baron_kills'] = team2['objectives']['baron']['kills']\n",
    "            team_data['team2_drag_kills'] = team2['objectives']['dragon']['kills']\n",
    "            team_data['team2_herald_kills'] = team2['objectives']['riftHerald']['kills']\n",
    "            team_data['team2_tower_kills'] = team2['objectives']['tower']['kills']\n",
    "            team_data['team2_inhib_kills'] = team2['objectives']['inhibitor']['kills']\n",
    "            team_data['team2_win'] = 1 if team2['win'] else 0\n",
    "\n",
    "            team1_total_gold = 0\n",
    "            team1_total_dmg = 0\n",
    "            team2_total_gold = 0\n",
    "            team2_total_dmg = 0\n",
    "            for p in match_data['info']['participants']:\n",
    "                if p['teamId'] == 100: \n",
    "                    team1_total_gold += p['goldEarned']\n",
    "                    team1_total_dmg += p['totalDamageDealtToChampions']\n",
    "                else:\n",
    "                    team2_total_gold += p['goldEarned']\n",
    "                    team2_total_dmg += p['totalDamageDealtToChampions']\n",
    "\n",
    "            team_data['team1_total_gold'] = team1_total_gold\n",
    "            team_data['team1_total_dmg'] = team1_total_dmg\n",
    "            team_data['team2_total_gold'] = team2_total_gold\n",
    "            team_data['team2_total_dmg'] = team2_total_dmg\n",
    "\n",
    "            teams_data.append(team_data)\n",
    "\n",
    "    with open(r'./team_data.csv', 'w+', newline='') as fp:\n",
    "        writer = csv.DictWriter(fp, fieldnames=fieldnames)\n",
    "        writer.writeheader()\n",
    "        writer.writerows(teams_data)\n",
    "        print('Created new file team_data.csv')"
   ]
  }
 ],
 "metadata": {
  "kernelspec": {
   "display_name": "Python 3",
   "language": "python",
   "name": "python3"
  },
  "language_info": {
   "codemirror_mode": {
    "name": "ipython",
    "version": 3
   },
   "file_extension": ".py",
   "mimetype": "text/x-python",
   "name": "python",
   "nbconvert_exporter": "python",
   "pygments_lexer": "ipython3",
   "version": "3.10.7"
  },
  "orig_nbformat": 4,
  "vscode": {
   "interpreter": {
    "hash": "369f2c481f4da34e4445cda3fffd2e751bd1c4d706f27375911949ba6bb62e1c"
   }
  }
 },
 "nbformat": 4,
 "nbformat_minor": 2
}
